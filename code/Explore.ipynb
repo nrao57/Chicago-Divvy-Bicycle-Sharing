{
 "cells": [
  {
   "cell_type": "markdown",
   "metadata": {},
   "source": [
    "# This Script Explores the Popularity of Chicago Bike Sharing Routes and Weather effects on Trip Times\n",
    "\n",
    "We are going to look at the Chicago Bike Sharing Data from this [kaggle dataset](https://www.kaggle.com/yingwurenjian/chicago-divvy-bicycle-sharing-data)\n",
    "\n",
    "Author: Nikhil Rao\n",
    "\n",
    "GitHub: [https://github.com/nrao57](https://github.com/nrao57)\n",
    "\n",
    "LinkedIn: [link](www.linkedin.com/in/nikhil-rao-54566862)"
   ]
  },
  {
   "cell_type": "markdown",
   "metadata": {},
   "source": [
    "# Table of contents\n",
    "1. [Introduction](#introduction)\n",
    "2. [Import the Neccessary Libraries](#Libraries)\n",
    "3. [Import the Dataset](#ImportData)\n",
    "4. [Popularity of Bike Routes](#Popularity)\n",
    "5. [Does bad weather slow bike riders?](#weather)"
   ]
  },
  {
   "cell_type": "markdown",
   "metadata": {},
   "source": [
    "## Import the Neccessary Libraries <a name=\"Libraries\"></a>"
   ]
  },
  {
   "cell_type": "code",
   "execution_count": 1,
   "metadata": {},
   "outputs": [],
   "source": [
    "import pandas as pd\n",
    "import numpy as np\n",
    "import os\n",
    "from matplotlib import pyplot as plt\n",
    "from scipy.stats import ttest_ind\n",
    "%matplotlib inline"
   ]
  },
  {
   "cell_type": "markdown",
   "metadata": {},
   "source": [
    "## Import the Dataset <a name=\"ImportData\"></a>"
   ]
  },
  {
   "cell_type": "code",
   "execution_count": 2,
   "metadata": {},
   "outputs": [],
   "source": [
    "os.chdir(\"..\")\n",
    "data_set = pd.read_csv(\"Datasets/data.csv\")\n",
    "os.chdir('code')"
   ]
  },
  {
   "cell_type": "markdown",
   "metadata": {},
   "source": [
    "What does the dataset look like?"
   ]
  },
  {
   "cell_type": "code",
   "execution_count": 3,
   "metadata": {},
   "outputs": [
    {
     "data": {
      "text/html": [
       "<div>\n",
       "<style scoped>\n",
       "    .dataframe tbody tr th:only-of-type {\n",
       "        vertical-align: middle;\n",
       "    }\n",
       "\n",
       "    .dataframe tbody tr th {\n",
       "        vertical-align: top;\n",
       "    }\n",
       "\n",
       "    .dataframe thead th {\n",
       "        text-align: right;\n",
       "    }\n",
       "</style>\n",
       "<table border=\"1\" class=\"dataframe\">\n",
       "  <thead>\n",
       "    <tr style=\"text-align: right;\">\n",
       "      <th></th>\n",
       "      <th>trip_id</th>\n",
       "      <th>year</th>\n",
       "      <th>month</th>\n",
       "      <th>week</th>\n",
       "      <th>day</th>\n",
       "      <th>hour</th>\n",
       "      <th>usertype</th>\n",
       "      <th>gender</th>\n",
       "      <th>starttime</th>\n",
       "      <th>stoptime</th>\n",
       "      <th>...</th>\n",
       "      <th>from_station_id</th>\n",
       "      <th>from_station_name</th>\n",
       "      <th>latitude_start</th>\n",
       "      <th>longitude_start</th>\n",
       "      <th>dpcapacity_start</th>\n",
       "      <th>to_station_id</th>\n",
       "      <th>to_station_name</th>\n",
       "      <th>latitude_end</th>\n",
       "      <th>longitude_end</th>\n",
       "      <th>dpcapacity_end</th>\n",
       "    </tr>\n",
       "  </thead>\n",
       "  <tbody>\n",
       "    <tr>\n",
       "      <th>0</th>\n",
       "      <td>2355134</td>\n",
       "      <td>2014</td>\n",
       "      <td>6</td>\n",
       "      <td>27</td>\n",
       "      <td>0</td>\n",
       "      <td>23</td>\n",
       "      <td>Subscriber</td>\n",
       "      <td>Male</td>\n",
       "      <td>2014-06-30 23:57:00</td>\n",
       "      <td>2014-07-01 00:07:00</td>\n",
       "      <td>...</td>\n",
       "      <td>131</td>\n",
       "      <td>Lincoln Ave &amp; Belmont Ave</td>\n",
       "      <td>41.939365</td>\n",
       "      <td>-87.668385</td>\n",
       "      <td>15.0</td>\n",
       "      <td>303</td>\n",
       "      <td>Broadway &amp; Cornelia Ave</td>\n",
       "      <td>41.945512</td>\n",
       "      <td>-87.645980</td>\n",
       "      <td>15.0</td>\n",
       "    </tr>\n",
       "    <tr>\n",
       "      <th>1</th>\n",
       "      <td>2355133</td>\n",
       "      <td>2014</td>\n",
       "      <td>6</td>\n",
       "      <td>27</td>\n",
       "      <td>0</td>\n",
       "      <td>23</td>\n",
       "      <td>Subscriber</td>\n",
       "      <td>Male</td>\n",
       "      <td>2014-06-30 23:56:00</td>\n",
       "      <td>2014-07-01 00:00:00</td>\n",
       "      <td>...</td>\n",
       "      <td>282</td>\n",
       "      <td>Halsted St &amp; Maxwell St</td>\n",
       "      <td>41.864580</td>\n",
       "      <td>-87.646930</td>\n",
       "      <td>15.0</td>\n",
       "      <td>22</td>\n",
       "      <td>May St &amp; Taylor St</td>\n",
       "      <td>41.869482</td>\n",
       "      <td>-87.655486</td>\n",
       "      <td>15.0</td>\n",
       "    </tr>\n",
       "    <tr>\n",
       "      <th>2</th>\n",
       "      <td>2355130</td>\n",
       "      <td>2014</td>\n",
       "      <td>6</td>\n",
       "      <td>27</td>\n",
       "      <td>0</td>\n",
       "      <td>23</td>\n",
       "      <td>Subscriber</td>\n",
       "      <td>Male</td>\n",
       "      <td>2014-06-30 23:33:00</td>\n",
       "      <td>2014-06-30 23:35:00</td>\n",
       "      <td>...</td>\n",
       "      <td>327</td>\n",
       "      <td>Sheffield Ave &amp; Webster Ave</td>\n",
       "      <td>41.921687</td>\n",
       "      <td>-87.653714</td>\n",
       "      <td>19.0</td>\n",
       "      <td>225</td>\n",
       "      <td>Halsted St &amp; Dickens Ave</td>\n",
       "      <td>41.919936</td>\n",
       "      <td>-87.648830</td>\n",
       "      <td>15.0</td>\n",
       "    </tr>\n",
       "    <tr>\n",
       "      <th>3</th>\n",
       "      <td>2355129</td>\n",
       "      <td>2014</td>\n",
       "      <td>6</td>\n",
       "      <td>27</td>\n",
       "      <td>0</td>\n",
       "      <td>23</td>\n",
       "      <td>Subscriber</td>\n",
       "      <td>Female</td>\n",
       "      <td>2014-06-30 23:26:00</td>\n",
       "      <td>2014-07-01 00:24:00</td>\n",
       "      <td>...</td>\n",
       "      <td>134</td>\n",
       "      <td>Peoria St &amp; Jackson Blvd</td>\n",
       "      <td>41.877749</td>\n",
       "      <td>-87.649633</td>\n",
       "      <td>19.0</td>\n",
       "      <td>194</td>\n",
       "      <td>State St &amp; Wacker Dr</td>\n",
       "      <td>41.887155</td>\n",
       "      <td>-87.627750</td>\n",
       "      <td>11.0</td>\n",
       "    </tr>\n",
       "    <tr>\n",
       "      <th>4</th>\n",
       "      <td>2355128</td>\n",
       "      <td>2014</td>\n",
       "      <td>6</td>\n",
       "      <td>27</td>\n",
       "      <td>0</td>\n",
       "      <td>23</td>\n",
       "      <td>Subscriber</td>\n",
       "      <td>Female</td>\n",
       "      <td>2014-06-30 23:16:00</td>\n",
       "      <td>2014-06-30 23:26:00</td>\n",
       "      <td>...</td>\n",
       "      <td>320</td>\n",
       "      <td>Loomis St &amp; Lexington St</td>\n",
       "      <td>41.872187</td>\n",
       "      <td>-87.661501</td>\n",
       "      <td>15.0</td>\n",
       "      <td>134</td>\n",
       "      <td>Peoria St &amp; Jackson Blvd</td>\n",
       "      <td>41.877749</td>\n",
       "      <td>-87.649633</td>\n",
       "      <td>19.0</td>\n",
       "    </tr>\n",
       "  </tbody>\n",
       "</table>\n",
       "<p>5 rows × 23 columns</p>\n",
       "</div>"
      ],
      "text/plain": [
       "   trip_id  year  month  week  day  hour    usertype  gender  \\\n",
       "0  2355134  2014      6    27    0    23  Subscriber    Male   \n",
       "1  2355133  2014      6    27    0    23  Subscriber    Male   \n",
       "2  2355130  2014      6    27    0    23  Subscriber    Male   \n",
       "3  2355129  2014      6    27    0    23  Subscriber  Female   \n",
       "4  2355128  2014      6    27    0    23  Subscriber  Female   \n",
       "\n",
       "             starttime             stoptime      ...        from_station_id  \\\n",
       "0  2014-06-30 23:57:00  2014-07-01 00:07:00      ...                    131   \n",
       "1  2014-06-30 23:56:00  2014-07-01 00:00:00      ...                    282   \n",
       "2  2014-06-30 23:33:00  2014-06-30 23:35:00      ...                    327   \n",
       "3  2014-06-30 23:26:00  2014-07-01 00:24:00      ...                    134   \n",
       "4  2014-06-30 23:16:00  2014-06-30 23:26:00      ...                    320   \n",
       "\n",
       "             from_station_name latitude_start  longitude_start  \\\n",
       "0    Lincoln Ave & Belmont Ave      41.939365       -87.668385   \n",
       "1      Halsted St & Maxwell St      41.864580       -87.646930   \n",
       "2  Sheffield Ave & Webster Ave      41.921687       -87.653714   \n",
       "3     Peoria St & Jackson Blvd      41.877749       -87.649633   \n",
       "4     Loomis St & Lexington St      41.872187       -87.661501   \n",
       "\n",
       "  dpcapacity_start  to_station_id           to_station_name  latitude_end  \\\n",
       "0             15.0            303   Broadway & Cornelia Ave     41.945512   \n",
       "1             15.0             22        May St & Taylor St     41.869482   \n",
       "2             19.0            225  Halsted St & Dickens Ave     41.919936   \n",
       "3             19.0            194      State St & Wacker Dr     41.887155   \n",
       "4             15.0            134  Peoria St & Jackson Blvd     41.877749   \n",
       "\n",
       "   longitude_end dpcapacity_end  \n",
       "0     -87.645980           15.0  \n",
       "1     -87.655486           15.0  \n",
       "2     -87.648830           15.0  \n",
       "3     -87.627750           11.0  \n",
       "4     -87.649633           19.0  \n",
       "\n",
       "[5 rows x 23 columns]"
      ]
     },
     "execution_count": 3,
     "metadata": {},
     "output_type": "execute_result"
    }
   ],
   "source": [
    "data_set.head()"
   ]
  },
  {
   "cell_type": "markdown",
   "metadata": {},
   "source": [
    "What are the columns?"
   ]
  },
  {
   "cell_type": "code",
   "execution_count": 4,
   "metadata": {},
   "outputs": [
    {
     "data": {
      "text/plain": [
       "Index(['trip_id', 'year', 'month', 'week', 'day', 'hour', 'usertype', 'gender',\n",
       "       'starttime', 'stoptime', 'tripduration', 'temperature', 'events',\n",
       "       'from_station_id', 'from_station_name', 'latitude_start',\n",
       "       'longitude_start', 'dpcapacity_start', 'to_station_id',\n",
       "       'to_station_name', 'latitude_end', 'longitude_end', 'dpcapacity_end'],\n",
       "      dtype='object')"
      ]
     },
     "execution_count": 4,
     "metadata": {},
     "output_type": "execute_result"
    }
   ],
   "source": [
    "data_set.columns"
   ]
  },
  {
   "cell_type": "markdown",
   "metadata": {},
   "source": [
    "## Lets look at the popularity of certain bike routes <a name=\"Popularity\"></a>"
   ]
  },
  {
   "cell_type": "code",
   "execution_count": 5,
   "metadata": {},
   "outputs": [
    {
     "data": {
      "image/png": "[encoded data removed]",
      "text/plain": [
       "<Figure size 432x288 with 1 Axes>"
      ]
     },
     "metadata": {},
     "output_type": "display_data"
    }
   ],
   "source": [
    "from_station=\"from_station_name\"\n",
    "to_station=\"to_station_name\"\n",
    "f1, ax1 = plt.subplots(1)\n",
    "cross_table = pd.crosstab(data_set[from_station], data_set[to_station], normalize=False)\n",
    "ax1.matshow(cross_table)\n",
    "plt.show()"
   ]
  },
  {
   "cell_type": "markdown",
   "metadata": {},
   "source": [
    "As you can see, there are certain bright spots in the heatmap visual, which indicates that some paths are more popular than others"
   ]
  },
  {
   "cell_type": "markdown",
   "metadata": {},
   "source": [
    "### What is the most popular destination?"
   ]
  },
  {
   "cell_type": "code",
   "execution_count": 6,
   "metadata": {},
   "outputs": [
    {
     "data": {
      "text/plain": [
       "to_station_name\n",
       "Clinton St & Washington Blvd    161152\n",
       "Canal St & Adams St             139654\n",
       "Canal St & Madison St           129632\n",
       "Clinton St & Madison St         117378\n",
       "dtype: int64"
      ]
     },
     "execution_count": 6,
     "metadata": {},
     "output_type": "execute_result"
    }
   ],
   "source": [
    "cross_table.sum().sort_values(ascending=False).head(4)"
   ]
  },
  {
   "cell_type": "markdown",
   "metadata": {},
   "source": [
    "#### From the data, it seems that the most popular destinations are \n",
    "1. Clinton St & Washington Blvd    \n",
    "2. Canal St & Adams St             \n",
    "3. Canal St & Madison St           \n",
    "4. Clinton St & Madison St"
   ]
  },
  {
   "cell_type": "markdown",
   "metadata": {},
   "source": [
    "### What are the most popular routes?"
   ]
  },
  {
   "cell_type": "code",
   "execution_count": 7,
   "metadata": {},
   "outputs": [
    {
     "data": {
      "text/plain": [
       "[['Columbus Dr & Randolph St', 'Clinton St & Washington Blvd'],\n",
       " ['Southport Ave & Wellington Ave', 'Sheffield Ave & Wellington Ave'],\n",
       " ['LaSalle St & Jackson Blvd', 'Canal St & Madison St'],\n",
       " ['Canal St & Madison St', 'Michigan Ave & Washington St']]"
      ]
     },
     "execution_count": 7,
     "metadata": {},
     "output_type": "execute_result"
    }
   ],
   "source": [
    "top_to=cross_table.max().sort_values(ascending=False).head(4).index.values\n",
    "most_pop = []\n",
    "for top in top_to:\n",
    "    most_pop.append([cross_table[top].sort_values(ascending=False).head(1).index.values[0], top])\n",
    "most_pop"
   ]
  },
  {
   "cell_type": "markdown",
   "metadata": {},
   "source": [
    "#### From the data, the most popular routes are\n",
    "1. From Columbus Dr & Randolph St to Clinton St & Washington Blvd\n",
    "2. From Southport Ave & Wellington Ave to Sheffield Ave & Wellington Ave\n",
    "3. From LaSalle St & Jackson Blvd to Canal St & Madison St\n",
    "4. From Canal St & Madison St to Michigan Ave & Washington St"
   ]
  },
  {
   "cell_type": "markdown",
   "metadata": {},
   "source": [
    "#### Does this make sense to all of my Chicagoans out there?"
   ]
  },
  {
   "cell_type": "markdown",
   "metadata": {},
   "source": [
    "## Does bad weather reduce the time of bike trips around the city?<a name=\"weather\"></a>"
   ]
  },
  {
   "cell_type": "markdown",
   "metadata": {},
   "source": [
    "### Lets take a look at the value counts to see the distribution of weather"
   ]
  },
  {
   "cell_type": "code",
   "execution_count": 17,
   "metadata": {},
   "outputs": [
    {
     "data": {
      "text/plain": [
       "clear    0.938452\n",
       "bad      0.061548\n",
       "Name: events, dtype: float64"
      ]
     },
     "execution_count": 17,
     "metadata": {},
     "output_type": "execute_result"
    }
   ],
   "source": [
    "data_set['events'].value_counts()/sum(data_set['events'].value_counts())"
   ]
  },
  {
   "cell_type": "markdown",
   "metadata": {},
   "source": [
    "Based on the data, the majority of the time (88% to be exact) is cloudy. Then, the rest of the days are mostly clear or raining/snowing "
   ]
  },
  {
   "cell_type": "markdown",
   "metadata": {},
   "source": [
    "Lets combine \"cloudy\" and \"clear\" weather into one category called \"clear\". After all, cloudy does not mean there is precipitation. While we are at it, lets combine rain or snow, not clear, and tstorms into a category called \"bad\"."
   ]
  },
  {
   "cell_type": "code",
   "execution_count": 9,
   "metadata": {},
   "outputs": [],
   "source": [
    "data_set.loc[data_set['events']=='cloudy','events']='clear'\n",
    "data_set.loc[data_set['events']=='rain or snow','events']='bad'\n",
    "data_set.loc[data_set['events']=='not clear','events']='bad'\n",
    "data_set.loc[data_set['events']=='tstorms','events']='bad'\n",
    "data_set = data_set[data_set['events']!='unknown']"
   ]
  },
  {
   "cell_type": "code",
   "execution_count": 10,
   "metadata": {
    "scrolled": true
   },
   "outputs": [
    {
     "data": {
      "text/plain": [
       "count    9.494699e+06\n",
       "mean     1.144687e+01\n",
       "std      7.206053e+00\n",
       "min      2.000000e+00\n",
       "25%      6.033333e+00\n",
       "50%      9.633333e+00\n",
       "75%      1.520000e+01\n",
       "max      6.000000e+01\n",
       "Name: tripduration, dtype: float64"
      ]
     },
     "execution_count": 10,
     "metadata": {},
     "output_type": "execute_result"
    }
   ],
   "source": [
    "data_set['tripduration'].describe()"
   ]
  },
  {
   "cell_type": "markdown",
   "metadata": {},
   "source": [
    "** Note: The trip time is in units of minutes **\n",
    "\n",
    "From the data, the average bike ride takes around 12 minutes and the longest rides take an hour"
   ]
  },
  {
   "cell_type": "markdown",
   "metadata": {},
   "source": [
    "### Pivot tables to find the mean and standard deviation for the weather groups\n",
    "\n",
    "There is a problem with just doing a t-test on the weather and their corresponding trip durations. What if, for some reason, cloudy days have more of one specific route than another (route being defined as from one station to another)? Then, those specific routes might be naturally longer, no matter the weather. Therefore, we must conduct a t-test for all of the routes, which is approximately the number of stations squared or 656 squared!!!! "
   ]
  },
  {
   "cell_type": "markdown",
   "metadata": {},
   "source": [
    "However, if we can show that each weather (clear or bad) contains the same set of routes, then we can just do a t-test on the entire set (it will not be correct, but an aproximation). To determine this justification, we can look at all of the routes for each weather and compare the length of the set of their tuples"
   ]
  },
  {
   "cell_type": "code",
   "execution_count": 11,
   "metadata": {},
   "outputs": [],
   "source": [
    "routes = data_set[['events',to_station, from_station]]"
   ]
  },
  {
   "cell_type": "code",
   "execution_count": 12,
   "metadata": {},
   "outputs": [
    {
     "name": "stdout",
     "output_type": "stream",
     "text": [
      "The number of unique clear routes: 129367\n"
     ]
    }
   ],
   "source": [
    "clear_routes=routes[routes['events']=='clear']\n",
    "#len(set(cloudy_routes[to_station].values,cloudy_routes[from_station])))\n",
    "unique_clear_routes = len(set(list(zip(*[clear_routes[c].values.tolist() for c in [to_station, from_station]]))))\n",
    "print('The number of unique clear routes: {}'.format(unique_clear_routes))"
   ]
  },
  {
   "cell_type": "code",
   "execution_count": 13,
   "metadata": {},
   "outputs": [
    {
     "name": "stdout",
     "output_type": "stream",
     "text": [
      "The number of unique bad routes: 63361\n"
     ]
    }
   ],
   "source": [
    "bad_routes=routes[routes['events']=='bad']\n",
    "#len(set(cloudy_routes[to_station].values,cloudy_routes[from_station])))\n",
    "unique_bad_routes = len(set(list(zip(*[bad_routes[c].values.tolist() for c in [to_station, from_station]]))))\n",
    "print('The number of unique bad routes: {}'.format(unique_bad_routes))"
   ]
  },
  {
   "cell_type": "markdown",
   "metadata": {},
   "source": [
    "#### There are approximately twice as many unique routes for clear weather than bad weather. Therefore, we cannot legitimately compare the trip duration with a t-test. But lets do it anyway for practice  : ) <a name=\"wrongconclusion\"></a>"
   ]
  },
  {
   "cell_type": "markdown",
   "metadata": {},
   "source": [
    "Find the mean trip duration for each population of weather"
   ]
  },
  {
   "cell_type": "code",
   "execution_count": 14,
   "metadata": {},
   "outputs": [
    {
     "data": {
      "text/html": [
       "<div>\n",
       "<style scoped>\n",
       "    .dataframe tbody tr th:only-of-type {\n",
       "        vertical-align: middle;\n",
       "    }\n",
       "\n",
       "    .dataframe tbody tr th {\n",
       "        vertical-align: top;\n",
       "    }\n",
       "\n",
       "    .dataframe thead th {\n",
       "        text-align: right;\n",
       "    }\n",
       "</style>\n",
       "<table border=\"1\" class=\"dataframe\">\n",
       "  <thead>\n",
       "    <tr style=\"text-align: right;\">\n",
       "      <th></th>\n",
       "      <th>tripduration</th>\n",
       "    </tr>\n",
       "    <tr>\n",
       "      <th>events</th>\n",
       "      <th></th>\n",
       "    </tr>\n",
       "  </thead>\n",
       "  <tbody>\n",
       "    <tr>\n",
       "      <th>bad</th>\n",
       "      <td>10.400526</td>\n",
       "    </tr>\n",
       "    <tr>\n",
       "      <th>clear</th>\n",
       "      <td>11.515496</td>\n",
       "    </tr>\n",
       "  </tbody>\n",
       "</table>\n",
       "</div>"
      ],
      "text/plain": [
       "        tripduration\n",
       "events              \n",
       "bad        10.400526\n",
       "clear      11.515496"
      ]
     },
     "execution_count": 14,
     "metadata": {},
     "output_type": "execute_result"
    }
   ],
   "source": [
    "data_set[['events','tripduration']].groupby('events').mean()"
   ]
  },
  {
   "cell_type": "markdown",
   "metadata": {},
   "source": [
    "Find the standard deviation for trip duration for each population of weather"
   ]
  },
  {
   "cell_type": "code",
   "execution_count": 15,
   "metadata": {},
   "outputs": [
    {
     "data": {
      "text/html": [
       "<div>\n",
       "<style scoped>\n",
       "    .dataframe tbody tr th:only-of-type {\n",
       "        vertical-align: middle;\n",
       "    }\n",
       "\n",
       "    .dataframe tbody tr th {\n",
       "        vertical-align: top;\n",
       "    }\n",
       "\n",
       "    .dataframe thead th {\n",
       "        text-align: right;\n",
       "    }\n",
       "</style>\n",
       "<table border=\"1\" class=\"dataframe\">\n",
       "  <thead>\n",
       "    <tr style=\"text-align: right;\">\n",
       "      <th></th>\n",
       "      <th>tripduration</th>\n",
       "    </tr>\n",
       "    <tr>\n",
       "      <th>events</th>\n",
       "      <th></th>\n",
       "    </tr>\n",
       "  </thead>\n",
       "  <tbody>\n",
       "    <tr>\n",
       "      <th>bad</th>\n",
       "      <td>6.595985</td>\n",
       "    </tr>\n",
       "    <tr>\n",
       "      <th>clear</th>\n",
       "      <td>7.238986</td>\n",
       "    </tr>\n",
       "  </tbody>\n",
       "</table>\n",
       "</div>"
      ],
      "text/plain": [
       "        tripduration\n",
       "events              \n",
       "bad         6.595985\n",
       "clear       7.238986"
      ]
     },
     "execution_count": 15,
     "metadata": {},
     "output_type": "execute_result"
    }
   ],
   "source": [
    "data_set[['events','tripduration']].groupby('events').std()"
   ]
  },
  {
   "cell_type": "markdown",
   "metadata": {},
   "source": [
    "### Hypothesis Testing\n",
    "Now that we have the mean and standard deviation for the weather, lets test the hypothesis with a t-test!\n",
    "\n",
    "The null hypothesis will be that the **trip duration is equal for both clear and bad weather**"
   ]
  },
  {
   "cell_type": "code",
   "execution_count": 18,
   "metadata": {},
   "outputs": [
    {
     "data": {
      "text/plain": [
       "Ttest_indResult(statistic=124.40031228827422, pvalue=0.0)"
      ]
     },
     "execution_count": 18,
     "metadata": {},
     "output_type": "execute_result"
    }
   ],
   "source": [
    "pop1 = data_set[data_set['events']=='clear']['tripduration']\n",
    "pop2 = data_set[data_set['events']=='bad']['tripduration']\n",
    "ttest_ind(pop1, pop2, equal_var=False)"
   ]
  },
  {
   "cell_type": "markdown",
   "metadata": {},
   "source": [
    "### Results and Key Takeaways\n",
    "\n",
    "The p-value is 0.0009 which is waaaay lower than the typical p-value threshold of 0.05. Therefore, the probability of obtaining the data's difference of the average trip duration (11.47 seconds for clear weather - 10.52 seconds for bad weather = 0.95 seconds) given that the real difference is zero is 0.09%!\n",
    "\n",
    "Due to this low probability, the trip durations are most likely different for clear and bad weather, with **trips taking longer on clear days!**\n",
    "\n",
    "What?!?! How can this be? \n",
    "\n",
    "Maybe people in chicago take their time on sunny days to enjoy their ride or choose to ride a bike longer distances when it is a beautiful day.\n",
    "\n",
    "#### [NOTE: As stated above, since clear weather has twice as many unique routes as bad weather, this result is meaningless. The clear weather could, and probably does, contain routes that are longer distances!](#wrongconclusion) "
   ]
  },
  {
   "cell_type": "code",
   "execution_count": null,
   "metadata": {},
   "outputs": [],
   "source": []
  }
 ],
 "metadata": {
  "kernelspec": {
   "display_name": "Python 3",
   "language": "python",
   "name": "python3"
  },
  "language_info": {
   "codemirror_mode": {
    "name": "ipython",
    "version": 3
   },
   "file_extension": ".py",
   "mimetype": "text/x-python",
   "name": "python",
   "nbconvert_exporter": "python",
   "pygments_lexer": "ipython3",
   "version": "3.6.5"
  }
 },
 "nbformat": 4,
 "nbformat_minor": 2
}
