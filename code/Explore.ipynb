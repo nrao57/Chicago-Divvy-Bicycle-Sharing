{
 "cells": [
  {
   "cell_type": "markdown",
   "metadata": {},
   "source": [
    "# This Script Explores the Dataset with Descriptive Statistics\n",
    "\n",
    "We are going to look at the Chicago Bike Sharing Data from this [kaggle dataset](https://www.kaggle.com/yingwurenjian/chicago-divvy-bicycle-sharing-data)"
   ]
  },
  {
   "cell_type": "markdown",
   "metadata": {},
   "source": [
    "## Import the Neccessary Libraries"
   ]
  },
  {
   "cell_type": "code",
   "execution_count": 2,
   "metadata": {},
   "outputs": [],
   "source": [
    "import pandas as pd\n",
    "import numpy as np\n",
    "import os\n",
    "from matplotlib import pyplot as plt\n",
    "%matplotlib inline"
   ]
  },
  {
   "cell_type": "markdown",
   "metadata": {},
   "source": [
    "## Import the Dataset"
   ]
  },
  {
   "cell_type": "code",
   "execution_count": 3,
   "metadata": {},
   "outputs": [],
   "source": [
    "os.chdir(\"..\")\n",
    "data_set = pd.read_csv(\"Datasets/data_randreduced.csv\")\n",
    "os.chdir('code')"
   ]
  },
  {
   "cell_type": "markdown",
   "metadata": {},
   "source": [
    "What does the dataset look like?"
   ]
  },
  {
   "cell_type": "code",
   "execution_count": 5,
   "metadata": {},
   "outputs": [
    {
     "data": {
      "text/html": [
       "<div>\n",
       "<style scoped>\n",
       "    .dataframe tbody tr th:only-of-type {\n",
       "        vertical-align: middle;\n",
       "    }\n",
       "\n",
       "    .dataframe tbody tr th {\n",
       "        vertical-align: top;\n",
       "    }\n",
       "\n",
       "    .dataframe thead th {\n",
       "        text-align: right;\n",
       "    }\n",
       "</style>\n",
       "<table border=\"1\" class=\"dataframe\">\n",
       "  <thead>\n",
       "    <tr style=\"text-align: right;\">\n",
       "      <th></th>\n",
       "      <th>trip_id</th>\n",
       "      <th>year</th>\n",
       "      <th>month</th>\n",
       "      <th>week</th>\n",
       "      <th>day</th>\n",
       "      <th>hour</th>\n",
       "      <th>usertype</th>\n",
       "      <th>gender</th>\n",
       "      <th>starttime</th>\n",
       "      <th>stoptime</th>\n",
       "      <th>...</th>\n",
       "      <th>from_station_id</th>\n",
       "      <th>from_station_name</th>\n",
       "      <th>latitude_start</th>\n",
       "      <th>longitude_start</th>\n",
       "      <th>dpcapacity_start</th>\n",
       "      <th>to_station_id</th>\n",
       "      <th>to_station_name</th>\n",
       "      <th>latitude_end</th>\n",
       "      <th>longitude_end</th>\n",
       "      <th>dpcapacity_end</th>\n",
       "    </tr>\n",
       "  </thead>\n",
       "  <tbody>\n",
       "    <tr>\n",
       "      <th>0</th>\n",
       "      <td>2198011</td>\n",
       "      <td>2014</td>\n",
       "      <td>6</td>\n",
       "      <td>25</td>\n",
       "      <td>4</td>\n",
       "      <td>23</td>\n",
       "      <td>Subscriber</td>\n",
       "      <td>Male</td>\n",
       "      <td>2014-06-20 23:14:00</td>\n",
       "      <td>2014-06-20 23:31:00</td>\n",
       "      <td>...</td>\n",
       "      <td>143</td>\n",
       "      <td>Sedgwick St &amp; Webster Ave</td>\n",
       "      <td>41.921970</td>\n",
       "      <td>-87.638540</td>\n",
       "      <td>15.0</td>\n",
       "      <td>69</td>\n",
       "      <td>Damen Ave &amp; Pierce Ave</td>\n",
       "      <td>41.909396</td>\n",
       "      <td>-87.677692</td>\n",
       "      <td>19.0</td>\n",
       "    </tr>\n",
       "    <tr>\n",
       "      <th>1</th>\n",
       "      <td>2297417</td>\n",
       "      <td>2014</td>\n",
       "      <td>6</td>\n",
       "      <td>26</td>\n",
       "      <td>4</td>\n",
       "      <td>15</td>\n",
       "      <td>Subscriber</td>\n",
       "      <td>Male</td>\n",
       "      <td>2014-06-27 15:54:00</td>\n",
       "      <td>2014-06-27 16:12:00</td>\n",
       "      <td>...</td>\n",
       "      <td>85</td>\n",
       "      <td>Michigan Ave &amp; Oak St</td>\n",
       "      <td>41.900960</td>\n",
       "      <td>-87.623777</td>\n",
       "      <td>23.0</td>\n",
       "      <td>91</td>\n",
       "      <td>Clinton St &amp; Washington Blvd</td>\n",
       "      <td>41.883380</td>\n",
       "      <td>-87.641170</td>\n",
       "      <td>31.0</td>\n",
       "    </tr>\n",
       "    <tr>\n",
       "      <th>2</th>\n",
       "      <td>2200982</td>\n",
       "      <td>2014</td>\n",
       "      <td>6</td>\n",
       "      <td>25</td>\n",
       "      <td>5</td>\n",
       "      <td>10</td>\n",
       "      <td>Subscriber</td>\n",
       "      <td>Male</td>\n",
       "      <td>2014-06-21 10:37:00</td>\n",
       "      <td>2014-06-21 10:42:00</td>\n",
       "      <td>...</td>\n",
       "      <td>48</td>\n",
       "      <td>Larrabee St &amp; Kingsbury St</td>\n",
       "      <td>41.897764</td>\n",
       "      <td>-87.642884</td>\n",
       "      <td>27.0</td>\n",
       "      <td>31</td>\n",
       "      <td>Franklin St &amp; Chicago Ave</td>\n",
       "      <td>41.896802</td>\n",
       "      <td>-87.635638</td>\n",
       "      <td>23.0</td>\n",
       "    </tr>\n",
       "    <tr>\n",
       "      <th>3</th>\n",
       "      <td>2343629</td>\n",
       "      <td>2014</td>\n",
       "      <td>6</td>\n",
       "      <td>27</td>\n",
       "      <td>0</td>\n",
       "      <td>7</td>\n",
       "      <td>Subscriber</td>\n",
       "      <td>Male</td>\n",
       "      <td>2014-06-30 07:17:00</td>\n",
       "      <td>2014-06-30 07:26:00</td>\n",
       "      <td>...</td>\n",
       "      <td>31</td>\n",
       "      <td>Franklin St &amp; Chicago Ave</td>\n",
       "      <td>41.896802</td>\n",
       "      <td>-87.635638</td>\n",
       "      <td>23.0</td>\n",
       "      <td>81</td>\n",
       "      <td>Daley Center Plaza</td>\n",
       "      <td>41.884163</td>\n",
       "      <td>-87.629635</td>\n",
       "      <td>39.0</td>\n",
       "    </tr>\n",
       "    <tr>\n",
       "      <th>4</th>\n",
       "      <td>2237280</td>\n",
       "      <td>2014</td>\n",
       "      <td>6</td>\n",
       "      <td>26</td>\n",
       "      <td>0</td>\n",
       "      <td>17</td>\n",
       "      <td>Subscriber</td>\n",
       "      <td>Male</td>\n",
       "      <td>2014-06-23 17:07:00</td>\n",
       "      <td>2014-06-23 17:09:00</td>\n",
       "      <td>...</td>\n",
       "      <td>198</td>\n",
       "      <td>Halsted St &amp; Madison St</td>\n",
       "      <td>41.881750</td>\n",
       "      <td>-87.647800</td>\n",
       "      <td>19.0</td>\n",
       "      <td>77</td>\n",
       "      <td>Clinton St &amp; Madison St</td>\n",
       "      <td>41.881582</td>\n",
       "      <td>-87.641277</td>\n",
       "      <td>23.0</td>\n",
       "    </tr>\n",
       "  </tbody>\n",
       "</table>\n",
       "<p>5 rows × 23 columns</p>\n",
       "</div>"
      ],
      "text/plain": [
       "   trip_id  year  month  week  day  hour    usertype gender  \\\n",
       "0  2198011  2014      6    25    4    23  Subscriber   Male   \n",
       "1  2297417  2014      6    26    4    15  Subscriber   Male   \n",
       "2  2200982  2014      6    25    5    10  Subscriber   Male   \n",
       "3  2343629  2014      6    27    0     7  Subscriber   Male   \n",
       "4  2237280  2014      6    26    0    17  Subscriber   Male   \n",
       "\n",
       "             starttime             stoptime      ...        from_station_id  \\\n",
       "0  2014-06-20 23:14:00  2014-06-20 23:31:00      ...                    143   \n",
       "1  2014-06-27 15:54:00  2014-06-27 16:12:00      ...                     85   \n",
       "2  2014-06-21 10:37:00  2014-06-21 10:42:00      ...                     48   \n",
       "3  2014-06-30 07:17:00  2014-06-30 07:26:00      ...                     31   \n",
       "4  2014-06-23 17:07:00  2014-06-23 17:09:00      ...                    198   \n",
       "\n",
       "            from_station_name latitude_start  longitude_start  \\\n",
       "0   Sedgwick St & Webster Ave      41.921970       -87.638540   \n",
       "1       Michigan Ave & Oak St      41.900960       -87.623777   \n",
       "2  Larrabee St & Kingsbury St      41.897764       -87.642884   \n",
       "3   Franklin St & Chicago Ave      41.896802       -87.635638   \n",
       "4     Halsted St & Madison St      41.881750       -87.647800   \n",
       "\n",
       "  dpcapacity_start  to_station_id               to_station_name  latitude_end  \\\n",
       "0             15.0             69        Damen Ave & Pierce Ave     41.909396   \n",
       "1             23.0             91  Clinton St & Washington Blvd     41.883380   \n",
       "2             27.0             31     Franklin St & Chicago Ave     41.896802   \n",
       "3             23.0             81            Daley Center Plaza     41.884163   \n",
       "4             19.0             77       Clinton St & Madison St     41.881582   \n",
       "\n",
       "   longitude_end dpcapacity_end  \n",
       "0     -87.677692           19.0  \n",
       "1     -87.641170           31.0  \n",
       "2     -87.635638           23.0  \n",
       "3     -87.629635           39.0  \n",
       "4     -87.641277           23.0  \n",
       "\n",
       "[5 rows x 23 columns]"
      ]
     },
     "execution_count": 5,
     "metadata": {},
     "output_type": "execute_result"
    }
   ],
   "source": [
    "data_set.head()"
   ]
  },
  {
   "cell_type": "markdown",
   "metadata": {},
   "source": [
    "What are the columns?"
   ]
  },
  {
   "cell_type": "code",
   "execution_count": 6,
   "metadata": {},
   "outputs": [
    {
     "data": {
      "text/plain": [
       "Index(['trip_id', 'year', 'month', 'week', 'day', 'hour', 'usertype', 'gender',\n",
       "       'starttime', 'stoptime', 'tripduration', 'temperature', 'events',\n",
       "       'from_station_id', 'from_station_name', 'latitude_start',\n",
       "       'longitude_start', 'dpcapacity_start', 'to_station_id',\n",
       "       'to_station_name', 'latitude_end', 'longitude_end', 'dpcapacity_end'],\n",
       "      dtype='object')"
      ]
     },
     "execution_count": 6,
     "metadata": {},
     "output_type": "execute_result"
    }
   ],
   "source": [
    "data_set.columns"
   ]
  },
  {
   "cell_type": "markdown",
   "metadata": {},
   "source": [
    "## Lets look at the popularity of certain bike routes"
   ]
  },
  {
   "cell_type": "code",
   "execution_count": 8,
   "metadata": {},
   "outputs": [
    {
     "data": {
      "image/png": "[encoded data removed]",
      "text/plain": [
       "<Figure size 432x288 with 1 Axes>"
      ]
     },
     "metadata": {},
     "output_type": "display_data"
    }
   ],
   "source": [
    "from_station=\"from_station_name\"\n",
    "to_station=\"to_station_name\"\n",
    "f1, ax1 = plt.subplots(1)\n",
    "cross_table = pd.crosstab(data_set[from_station], data_set[to_station], normalize=False)\n",
    "ax1.matshow(cross_table)\n",
    "plt.show()"
   ]
  },
  {
   "cell_type": "markdown",
   "metadata": {},
   "source": [
    "As you can see, there are certain bright spots in the heatmap visual, which indicates that some paths are more popular than others"
   ]
  },
  {
   "cell_type": "markdown",
   "metadata": {},
   "source": [
    "## Hypothesis Testing\n",
    "\n",
    "So what are the forces and mechanisms driving the sharing of bicycles in Chicago? Are there any inefficiencies or roadblocks for bike sharing? Can we predict who and where people will go on their bike trips?\n",
    "\n",
    "1. Bad weather can reduce the number of people taking bike trips\n",
    "2. The weather can actually affect the time it take to get from one trip to another\n",
    "3. Highest biked paths have the most bike capacity. \n",
    "   * If not, there are inefficiencies and the city should invest more resources into that area\n",
    "4. More people will want to share bikes at later start times\n",
    "   * People do not want to wake up early\n",
    "5. More people will want to share bikes at an earlier stoptime\n",
    "   * People do not want to bike in the dark\n",
    "5. Most are one time riders and do not purchase bike sharing subscriptions\n",
    "6. Most riders bike during the summer, when the weather is warm\n",
    "7. The number of bike sharing riders has increased over the years"
   ]
  },
  {
   "cell_type": "code",
   "execution_count": 12,
   "metadata": {},
   "outputs": [],
   "source": [
    "#lets see if any of the features are correlated\n",
    "#first, lets map the strings to integer\n",
    "data_set_format = pd.get_dummies(data_set, prefix='gender', columns=['gender'])\n",
    "data_set_format = pd.get_dummies(data_set, prefix='gender', columns=['gender'])\n",
    "data_set_format = pd.get_dummies(data_set, prefix='usertype', columns=['usertype'])\n",
    "data_set_format = pd.get_dummies(data_set, prefix='events', columns=['events'])"
   ]
  },
  {
   "cell_type": "code",
   "execution_count": 11,
   "metadata": {},
   "outputs": [
    {
     "data": {
      "text/plain": [
       "[5.966666666666668, 9.616666666666667, 15.216666666666667, 21.4]"
      ]
     },
     "execution_count": 11,
     "metadata": {},
     "output_type": "execute_result"
    }
   ],
   "source": [
    "list(map(data_set['tripduration'].quantile, [0.25, 0.50, 0.75, 0.90]))"
   ]
  },
  {
   "cell_type": "code",
   "execution_count": 16,
   "metadata": {},
   "outputs": [
    {
     "data": {
      "text/plain": [
       "cloudy          8360\n",
       "clear            521\n",
       "rain or snow     430\n",
       "not clear        102\n",
       "tstorms           82\n",
       "Name: events, dtype: int64"
      ]
     },
     "execution_count": 16,
     "metadata": {},
     "output_type": "execute_result"
    }
   ],
   "source": [
    "data_set['events'].value_counts()"
   ]
  },
  {
   "cell_type": "markdown",
   "metadata": {},
   "source": []
  },
  {
   "cell_type": "code",
   "execution_count": null,
   "metadata": {},
   "outputs": [],
   "source": []
  },
  {
   "cell_type": "code",
   "execution_count": null,
   "metadata": {},
   "outputs": [],
   "source": []
  },
  {
   "cell_type": "code",
   "execution_count": null,
   "metadata": {},
   "outputs": [],
   "source": []
  }
 ],
 "metadata": {
  "kernelspec": {
   "display_name": "Python 3",
   "language": "python",
   "name": "python3"
  },
  "language_info": {
   "codemirror_mode": {
    "name": "ipython",
    "version": 3
   },
   "file_extension": ".py",
   "mimetype": "text/x-python",
   "name": "python",
   "nbconvert_exporter": "python",
   "pygments_lexer": "ipython3",
   "version": "3.6.5"
  }
 },
 "nbformat": 4,
 "nbformat_minor": 2
}
